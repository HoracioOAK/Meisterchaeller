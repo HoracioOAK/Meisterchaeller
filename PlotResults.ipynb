{
 "cells": [
  {
   "cell_type": "code",
   "execution_count": 15,
   "id": "217fc87f",
   "metadata": {
    "scrolled": false
   },
   "outputs": [
    {
     "ename": "SyntaxError",
     "evalue": "invalid syntax (4106489168.py, line 130)",
     "output_type": "error",
     "traceback": [
      "\u001b[0;36m  File \u001b[0;32m/var/folders/pc/81j0yrr54y9g75b00d469d5r0000gn/T/ipykernel_70330/4106489168.py:130\u001b[0;36m\u001b[0m\n\u001b[0;31m    elif len(split_selected) == 4 and \"Initial Samples\" in selected:\u001b[0m\n\u001b[0m    ^\u001b[0m\n\u001b[0;31mSyntaxError\u001b[0m\u001b[0;31m:\u001b[0m invalid syntax\n"
     ]
    },
    {
     "ename": "SyntaxError",
     "evalue": "invalid syntax (4106489168.py, line 130)",
     "output_type": "error",
     "traceback": [
      "Traceback \u001b[0;36m(most recent call last)\u001b[0m:\n",
      "\u001b[0m  File \u001b[1;32m/Applications/anaconda3/envs/capstone_env/lib/python3.12/site-packages/IPython/core/interactiveshell.py:3577\u001b[0m in \u001b[1;35mrun_code\u001b[0m\n    exec(code_obj, self.user_global_ns, self.user_ns)\u001b[0m\n",
      "\u001b[0m  Cell \u001b[1;32mIn[15], line 1\u001b[0m\n    get_ipython().run_line_magic('run', 'utils/Plot_Results.ipynb')\u001b[0m\n",
      "\u001b[0m  File \u001b[1;32m/Applications/anaconda3/envs/capstone_env/lib/python3.12/site-packages/IPython/core/interactiveshell.py:2480\u001b[0m in \u001b[1;35mrun_line_magic\u001b[0m\n    result = fn(*args, **kwargs)\u001b[0m\n",
      "\u001b[0m  File \u001b[1;32m/Applications/anaconda3/envs/capstone_env/lib/python3.12/site-packages/IPython/core/magics/execution.py:737\u001b[0m in \u001b[1;35mrun\u001b[0m\n    self.shell.safe_execfile_ipy(filename, raise_exceptions=True)\u001b[0m\n",
      "\u001b[0m  File \u001b[1;32m/Applications/anaconda3/envs/capstone_env/lib/python3.12/site-packages/IPython/core/interactiveshell.py:3005\u001b[0m in \u001b[1;35msafe_execfile_ipy\u001b[0m\n    result.raise_error()\u001b[0m\n",
      "\u001b[0m  File \u001b[1;32m/Applications/anaconda3/envs/capstone_env/lib/python3.12/site-packages/IPython/core/interactiveshell.py:306\u001b[0m in \u001b[1;35mraise_error\u001b[0m\n    raise self.error_before_exec\u001b[0m\n",
      "\u001b[0m  File \u001b[1;32m/Applications/anaconda3/envs/capstone_env/lib/python3.12/site-packages/IPython/core/interactiveshell.py:3306\u001b[0m in \u001b[1;35mrun_cell_async\u001b[0m\n    code_ast = compiler.ast_parse(cell, filename=cell_name)\u001b[0m\n",
      "\u001b[0;36m  File \u001b[0;32m/Applications/anaconda3/envs/capstone_env/lib/python3.12/site-packages/IPython/core/compilerop.py:86\u001b[0;36m in \u001b[0;35mast_parse\u001b[0;36m\n\u001b[0;31m    return compile(source, filename, symbol, self.flags | PyCF_ONLY_AST, 1)\u001b[0;36m\n",
      "\u001b[0;36m  File \u001b[0;32m/var/folders/pc/81j0yrr54y9g75b00d469d5r0000gn/T/ipykernel_70330/4106489168.py:130\u001b[0;36m\u001b[0m\n\u001b[0;31m    elif len(split_selected) == 4 and \"Initial Samples\" in selected:\u001b[0m\n\u001b[0m    ^\u001b[0m\n\u001b[0;31mSyntaxError\u001b[0m\u001b[0;31m:\u001b[0m invalid syntax\n"
     ]
    }
   ],
   "source": [
    "%run utils/Plot_Results.ipynb "
   ]
  }
 ],
 "metadata": {
  "kernelspec": {
   "display_name": "capstone_env",
   "language": "python",
   "name": "python3"
  },
  "language_info": {
   "codemirror_mode": {
    "name": "ipython",
    "version": 3
   },
   "file_extension": ".py",
   "mimetype": "text/x-python",
   "name": "python",
   "nbconvert_exporter": "python",
   "pygments_lexer": "ipython3",
   "version": "3.12.5"
  }
 },
 "nbformat": 4,
 "nbformat_minor": 5
}
