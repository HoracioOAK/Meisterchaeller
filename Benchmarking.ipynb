{
 "cells": [
  {
   "cell_type": "markdown",
   "id": "afb222bf",
   "metadata": {},
   "source": [
    "## Usage Guidelines for this Jupyter Notebook\n",
    "\n",
    "### Important Precautions\n",
    "\n",
    "- **Unsupervised Execution**: Avoid running this notebook unsupervised. Despite our efforts to develop robust code, it may occasionally get stuck in an infinite loop, where each iteration can incur costs.\n",
    "- **GPT-4 Model**: Exercise caution when using the GPT-4 model due to its high expense.\n",
    "- **Cell Execution**: Execute each cell individually and sequentially to ensure settings from the previous cell are correctly passed to the subsequent one.\n",
    "- **Save Prompts**: Make sure to click the save button if you have changed the prompts. This will overwrite your previous prompts.\n",
    "\n",
    "\n",
    "### Usage Instructions\n",
    "\n",
    "- **Dependencies**: This notebook relies on  `Settings`, `Utilities`, `Run_Experiments`, and `Run_Baselines` notebooks from the `the utils/` subfolder. \n",
    "- **Result Analysis**: This notebook only generates results as CSV files. To analyze the results, please execute the 'Inverse Design Results' notebook.\n"
   ]
  },
  {
   "cell_type": "code",
   "execution_count": null,
   "id": "7d015633",
   "metadata": {},
   "outputs": [],
   "source": [
    "import openai\n",
    "import os\n",
    "file_path = '../API_Key.txt'\n",
    "\n",
    "# Open the file and read the API key\n",
    "with open(file_path, 'r') as file:\n",
    "    api_key = file.read().strip()  # strip() removes any extra whitespace or newlines\n",
    "openai.api_key = api_key"
   ]
  },
  {
   "cell_type": "code",
   "execution_count": null,
   "id": "b4465a80",
   "metadata": {
    "scrolled": false
   },
   "outputs": [],
   "source": [
    "%run utils/Settings.ipynb\n",
    "display(settings)"
   ]
  },
  {
   "cell_type": "code",
   "execution_count": null,
   "id": "218b3951",
   "metadata": {
    "scrolled": false
   },
   "outputs": [],
   "source": [
    "%run utils/Utilities.ipynb\n",
    "display(Prompts)"
   ]
  },
  {
   "cell_type": "markdown",
   "id": "ae7c5214",
   "metadata": {
    "scrolled": true
   },
   "source": [
    "## Run Experiment"
   ]
  },
  {
   "cell_type": "code",
   "execution_count": null,
   "id": "a05c8ab8",
   "metadata": {
    "scrolled": false
   },
   "outputs": [],
   "source": [
    "%run utils/Run_Experiments.ipynb"
   ]
  },
  {
   "cell_type": "code",
   "execution_count": null,
   "id": "ad63741d",
   "metadata": {
    "scrolled": true
   },
   "outputs": [],
   "source": []
  },
  {
   "cell_type": "markdown",
   "id": "b99a2003",
   "metadata": {
    "scrolled": false
   },
   "source": [
    "##  Run Baseline Methods (BO,RF, RP) 30 times"
   ]
  },
  {
   "cell_type": "code",
   "execution_count": null,
   "id": "4fb65dd9",
   "metadata": {
    "scrolled": true
   },
   "outputs": [],
   "source": [
    "%run utils/Run_Baselines.ipynb"
   ]
  },
  {
   "cell_type": "markdown",
   "id": "be4d6fe7",
   "metadata": {},
   "source": []
  },
  {
   "cell_type": "markdown",
   "id": "7c960b5c",
   "metadata": {},
   "source": []
  }
 ],
 "metadata": {
  "kernelspec": {
   "display_name": "capstone_env",
   "language": "python",
   "name": "python3"
  },
  "language_info": {
   "codemirror_mode": {
    "name": "ipython",
    "version": 3
   },
   "file_extension": ".py",
   "mimetype": "text/x-python",
   "name": "python",
   "nbconvert_exporter": "python",
   "pygments_lexer": "ipython3",
   "version": "3.12.5"
  }
 },
 "nbformat": 4,
 "nbformat_minor": 5
}
